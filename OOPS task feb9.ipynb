{
 "cells": [
  {
   "cell_type": "markdown",
   "id": "10ee7303",
   "metadata": {},
   "source": [
    "##Q3:\n",
    "If a child class inherits from more than one class, \n",
    "i.e. this child class is derived from multiple classes, we call it multiple inheritance in Python\n"
   ]
  },
  {
   "cell_type": "code",
   "execution_count": null,
   "id": "67be7b9a",
   "metadata": {},
   "outputs": [],
   "source": [
    "class class1:\n",
    "    \n",
    "    def class_test1(self):\n",
    "        return \"hello rishabh\""
   ]
  },
  {
   "cell_type": "code",
   "execution_count": 5,
   "id": "1eef8143",
   "metadata": {},
   "outputs": [],
   "source": [
    "class class2:\n",
    "    \n",
    "    def class_test2(self):\n",
    "        return \"hello nidhi\""
   ]
  },
  {
   "cell_type": "code",
   "execution_count": 6,
   "id": "9fa42db7",
   "metadata": {},
   "outputs": [],
   "source": [
    "class class3(class1,class2):\n",
    "    pass"
   ]
  },
  {
   "cell_type": "code",
   "execution_count": 7,
   "id": "4209f3d0",
   "metadata": {},
   "outputs": [],
   "source": [
    "a = class3()"
   ]
  },
  {
   "cell_type": "code",
   "execution_count": 8,
   "id": "4c6ff42d",
   "metadata": {},
   "outputs": [
    {
     "data": {
      "text/plain": [
       "'hello rishabh'"
      ]
     },
     "execution_count": 8,
     "metadata": {},
     "output_type": "execute_result"
    }
   ],
   "source": [
    "a.class_test1()"
   ]
  },
  {
   "cell_type": "code",
   "execution_count": 9,
   "id": "51dd70ec",
   "metadata": {},
   "outputs": [
    {
     "data": {
      "text/plain": [
       "'hello nidhi'"
      ]
     },
     "execution_count": 9,
     "metadata": {},
     "output_type": "execute_result"
    }
   ],
   "source": [
    "a.class_test2()"
   ]
  },
  {
   "cell_type": "code",
   "execution_count": 10,
   "id": "edc35cdf",
   "metadata": {},
   "outputs": [],
   "source": [
    "##Q1:\n",
    "class Vehical:\n",
    "    \n",
    "    def __init__(self,name,max_speed,average):\n",
    "        self.name = name\n",
    "        self.max_speed = max_speed\n",
    "        self.average = average\n"
   ]
  },
  {
   "cell_type": "code",
   "execution_count": 13,
   "id": "d5ff61d6",
   "metadata": {},
   "outputs": [],
   "source": [
    "a = Vehical(\"BMW\", 170, 12.34)"
   ]
  },
  {
   "cell_type": "code",
   "execution_count": 17,
   "id": "fcbee34f",
   "metadata": {},
   "outputs": [
    {
     "name": "stdout",
     "output_type": "stream",
     "text": [
      "BMW\n"
     ]
    }
   ],
   "source": [
    "print(a.name)"
   ]
  },
  {
   "cell_type": "code",
   "execution_count": 18,
   "id": "f721a26e",
   "metadata": {},
   "outputs": [
    {
     "name": "stdout",
     "output_type": "stream",
     "text": [
      "12.34\n"
     ]
    }
   ],
   "source": [
    "print(a.average)"
   ]
  },
  {
   "cell_type": "markdown",
   "id": "22160f8b",
   "metadata": {},
   "source": [
    "##Q5:\n",
    "Method overriding is a feature of object-oriented programming languages where the subclass or child class can provide the program with specific characteristics or a specific implementation process of data provided that are already defined in the parent class or superclass."
   ]
  },
  {
   "cell_type": "code",
   "execution_count": 1,
   "id": "aaf2abb8",
   "metadata": {},
   "outputs": [],
   "source": [
    "class A:\n",
    "    \n",
    "    def show(self):\n",
    "        print(\"in A show\")"
   ]
  },
  {
   "cell_type": "code",
   "execution_count": 3,
   "id": "5de96b72",
   "metadata": {},
   "outputs": [],
   "source": [
    "class B(A):\n",
    "    \n",
    "    def show(self):\n",
    "        print(\"in B show\")"
   ]
  },
  {
   "cell_type": "code",
   "execution_count": 4,
   "id": "7e71edc5",
   "metadata": {},
   "outputs": [],
   "source": [
    "b1 = B()"
   ]
  },
  {
   "cell_type": "code",
   "execution_count": 5,
   "id": "71259680",
   "metadata": {},
   "outputs": [
    {
     "name": "stdout",
     "output_type": "stream",
     "text": [
      "in B show\n"
     ]
    }
   ],
   "source": [
    "b1.show()"
   ]
  },
  {
   "cell_type": "code",
   "execution_count": 26,
   "id": "67afe500",
   "metadata": {},
   "outputs": [],
   "source": [
    "##Q2:\n",
    "class Vehical:\n",
    "    \n",
    "    def __init__(self,name,max_speed,average):\n",
    "        self.name = name\n",
    "        self.max_speed = max_speed\n",
    "        self.average = average\n"
   ]
  },
  {
   "cell_type": "code",
   "execution_count": 27,
   "id": "6e4e8e67",
   "metadata": {},
   "outputs": [],
   "source": [
    "class show_capacity(Vehical):\n",
    "    \n",
    "    def seating_capacity(self,capacity):\n",
    "        self.capacity = capacity\n"
   ]
  },
  {
   "cell_type": "code",
   "execution_count": 18,
   "id": "05e50a1d",
   "metadata": {},
   "outputs": [],
   "source": [
    "obj = show_capacity(\"rishabh\",\"4\", 12.3)"
   ]
  },
  {
   "cell_type": "code",
   "execution_count": 19,
   "id": "138f498a",
   "metadata": {},
   "outputs": [
    {
     "name": "stdout",
     "output_type": "stream",
     "text": [
      "rishabh\n"
     ]
    }
   ],
   "source": [
    "print(obj.name)"
   ]
  },
  {
   "cell_type": "code",
   "execution_count": 22,
   "id": "c66edce2",
   "metadata": {},
   "outputs": [],
   "source": [
    "obj.seating_capacity(4, \"rishabh\")"
   ]
  },
  {
   "cell_type": "code",
   "execution_count": 23,
   "id": "5ad1ecf0",
   "metadata": {},
   "outputs": [
    {
     "name": "stdout",
     "output_type": "stream",
     "text": [
      "rishabh\n"
     ]
    }
   ],
   "source": [
    "print(obj.name)"
   ]
  },
  {
   "cell_type": "code",
   "execution_count": 24,
   "id": "d70b9762",
   "metadata": {},
   "outputs": [
    {
     "name": "stdout",
     "output_type": "stream",
     "text": [
      "4\n"
     ]
    }
   ],
   "source": [
    "print(obj.capacity)"
   ]
  },
  {
   "cell_type": "code",
   "execution_count": 28,
   "id": "7813217e",
   "metadata": {},
   "outputs": [
    {
     "name": "stdout",
     "output_type": "stream",
     "text": [
      "rishabh\n"
     ]
    }
   ],
   "source": [
    "print(obj.name)"
   ]
  },
  {
   "cell_type": "markdown",
   "id": "2dce6502",
   "metadata": {},
   "source": [
    "##Q4\n",
    "What is a getter and setter in Python?\n",
    "Image result for getter and setter python A method that allows you to access an attribute in a given class. Setter: A method that allows you to set or mutate the value of an attribute in a class."
   ]
  },
  {
   "cell_type": "code",
   "execution_count": 44,
   "id": "c5df2469",
   "metadata": {},
   "outputs": [],
   "source": [
    "class Employee:\n",
    "    \n",
    "    def __init__(self,name,salary):\n",
    "        self.name = name\n",
    "        self.__salary = salary\n",
    "        \n",
    "    def set_salary(self,salary):\n",
    "            self.__salary = salary\n",
    "            \n",
    "    def get_salary(self):\n",
    "            return self.__salary"
   ]
  },
  {
   "cell_type": "code",
   "execution_count": 45,
   "id": "6697a0af",
   "metadata": {},
   "outputs": [],
   "source": [
    "obj = Employee(\"rishabh\", 120000)"
   ]
  },
  {
   "cell_type": "code",
   "execution_count": 46,
   "id": "28043dc3",
   "metadata": {},
   "outputs": [
    {
     "name": "stdout",
     "output_type": "stream",
     "text": [
      "rishabh\n"
     ]
    }
   ],
   "source": [
    "print(obj.name)"
   ]
  },
  {
   "cell_type": "code",
   "execution_count": 47,
   "id": "6edfb69e",
   "metadata": {},
   "outputs": [],
   "source": [
    "obj.set_salary(12000)"
   ]
  },
  {
   "cell_type": "code",
   "execution_count": 48,
   "id": "11d81391",
   "metadata": {},
   "outputs": [
    {
     "data": {
      "text/plain": [
       "12000"
      ]
     },
     "execution_count": 48,
     "metadata": {},
     "output_type": "execute_result"
    }
   ],
   "source": [
    "obj.get_salary()"
   ]
  },
  {
   "cell_type": "code",
   "execution_count": null,
   "id": "289b7eea",
   "metadata": {},
   "outputs": [],
   "source": []
  }
 ],
 "metadata": {
  "kernelspec": {
   "display_name": "Python 3 (ipykernel)",
   "language": "python",
   "name": "python3"
  },
  "language_info": {
   "codemirror_mode": {
    "name": "ipython",
    "version": 3
   },
   "file_extension": ".py",
   "mimetype": "text/x-python",
   "name": "python",
   "nbconvert_exporter": "python",
   "pygments_lexer": "ipython3",
   "version": "3.9.13"
  }
 },
 "nbformat": 4,
 "nbformat_minor": 5
}
